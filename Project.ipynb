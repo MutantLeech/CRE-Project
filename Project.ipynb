{
 "cells": [
  {
   "cell_type": "markdown",
   "metadata": {
    "colab_type": "text",
    "id": "view-in-github"
   },
   "source": [
    "<a href=\"https://colab.research.google.com/github/MutantLeech/CRE-Project/blob/main/Project.ipynb\" target=\"_parent\"><img src=\"https://colab.research.google.com/assets/colab-badge.svg\" alt=\"Open In Colab\"/></a>"
   ]
  },
  {
   "cell_type": "code",
   "execution_count": 29,
   "metadata": {},
   "outputs": [],
   "source": [
    "# Giant pre-preprocessing cell\n",
    "# I fully expect this to take like a full hour, this has literally 47,000,000 lines and it's gotta go line by line (Update: 7m15s. python do be data processing)\n",
    "import regex as r\n",
    "\n",
    "# Pack these collections of games into dictionaries for easier processing\n",
    "def dict_pack(game):\n",
    "    tag_regex = r\"\\[(.*?) \\\"(.*?)\\\"\\]\"\n",
    "    said_dict = {}\n",
    "\n",
    "    for line in game:\n",
    "        possible_match = r.match(tag_regex, line)\n",
    "        if possible_match:\n",
    "            said_dict[possible_match.group(1)] = possible_match.group(2)\n",
    "        elif line != \"\\n\":\n",
    "            said_dict[\"Moves\"] = line\n",
    "\n",
    "    return said_dict\n",
    "\n",
    "# We only want certain kinds of games for this task\n",
    "def accept_or_reject(game_dict: dict):\n",
    "    # print(game_dict)\n",
    "    # Criteria for acceptance\n",
    "    # Not some random chess variant (i.e. regular chess)\n",
    "    if \"Variant\" in game_dict:\n",
    "        return False\n",
    "    # Ended normally\n",
    "    if game_dict[\"Termination\"] != \"Normal\":\n",
    "        # print(\"abnormal termination: \" + game_dict[\"Termination\"])\n",
    "        return False\n",
    "    # Decisively ended (although I'll leave code for including draws)\n",
    "    # if game_dict[\"Result\"] not in [\"1-0\", \"0-1, 1/2-1/2\"]:\n",
    "    if game_dict[\"Result\"] not in [\"1-0\", \"0-1\"]:\n",
    "        # print(\"abnormal result: \" + game_dict[\"Result\"])\n",
    "        return False\n",
    "    # Has the ELO ratings we're looking for\n",
    "    if not (\"WhiteElo\" in game_dict and \"BlackElo\" in game_dict):\n",
    "        # print(\"missing ELO ratings\")\n",
    "        return False\n",
    "\n",
    "    # Passes all those checks, so we're good\n",
    "    # print(\"check\")\n",
    "    return True\n",
    "\n",
    "# Okay, now for the actual file processing\n",
    "# Don't worry, .pgn files are just plaintext files, just with a special extension\n",
    "file_name = r\"lichess_db_standard_rated_2015-08.pgn\" # If you've got another file, you can replace this\n",
    "new_file_name = f\"{file_name[:-4]}_clean.pgn\"\n",
    "# GAME_LIMIT = 50 # I want to test this out, so this means that only this many games get parsed\n",
    "\n",
    "# Open both the original file and the new file\n",
    "# This will close both files once it's done\n",
    "skip_this_blank = True\n",
    "with open(\"datafiles/\" + file_name, \"r\") as FILE, open(\"datafiles/\" + new_file_name, \"w\") as NEW_FILE:\n",
    "    current_game = []\n",
    "    i = 0\n",
    "    for line in FILE:\n",
    "        if line != \"\\n\":\n",
    "            current_game.append(line)\n",
    "            continue\n",
    "        elif skip_this_blank:\n",
    "            skip_this_blank = not skip_this_blank\n",
    "            continue\n",
    "        \n",
    "        game_dict = dict_pack(current_game)\n",
    "        if accept_or_reject(game_dict):\n",
    "            NEW_FILE.write(\"\".join(current_game))\n",
    "            NEW_FILE.write(\"\\n\") # Gotta double newline so they're separated by blank lines\n",
    "        current_game.clear()\n",
    "        skip_this_blank = True\n",
    "\n",
    "        i += 1\n",
    "        # if i > GAME_LIMIT: break"
   ]
  },
  {
   "cell_type": "code",
   "execution_count": null,
   "metadata": {},
   "outputs": [
    {
     "name": "stdout",
     "output_type": "stream",
     "text": [
      "87 29.0\n",
      "69 23.0\n",
      "121 40.0\n",
      "69 23.0\n",
      "81 27.0\n",
      "16 5.0\n",
      "187 62.0\n",
      "165 55.0\n",
      "121 40.0\n",
      "63 21.0\n",
      "121 40.0\n",
      "[['1509' '28' '1.0']\n",
      " ['1623' '28' '1.0']\n",
      " ['1857' '22' '1.0']\n",
      " ['1963' '22' '1.0']\n",
      " ['892' '40' '0.0']\n",
      " ['1345' '40' '0.0']\n",
      " ['1953' '22' '1.0']\n",
      " ['1872' '22' '1.0']\n",
      " ['1358' '26' '1.0']\n",
      " ['1541' '26' '1.0']]\n"
     ]
    }
   ],
   "source": [
    "# Now we can do actual preprocessing to turn these into usable data\n",
    "# Still using the functions from the last one though, no need to recycle them\n",
    "import numpy as np\n",
    "\n",
    "# Put two versions of each game into the pool, one for white and one for black\n",
    "# If false, only white's version is added\n",
    "DOUBLE_GAMES = True\n",
    "\n",
    "# In the form [ELO, number of moves, result for white]\n",
    "# TODO: Write this to a file, probably\n",
    "chess_data = []\n",
    "\n",
    "with open(\"datafiles/\" + new_file_name) as FILE:\n",
    "    current_game = []\n",
    "    i = 0\n",
    "\n",
    "    for line in FILE:\n",
    "        if line != \"\\n\":\n",
    "            current_game.append(line)\n",
    "            continue\n",
    "        \n",
    "        game_dict = dict_pack(current_game)\n",
    "        white_rating = game_dict[\"WhiteElo\"]\n",
    "        game_moves_split = game_dict[\"Moves\"].split(\" \")\n",
    "        move_length = np.ceil((len(game_moves_split) - 1) / 3) # Moves are three units long, -1 to remove the result at the end\n",
    "        result = [\"0-1\", \"1/2-1/2\", \"1-0\"].index(game_dict[\"Result\"]) / 2 # returns 0, 0.5, or 1\n",
    "\n",
    "        chess_data.append([white_rating, move_length, result])\n",
    "\n",
    "        if DOUBLE_GAMES:\n",
    "            black_rating = game_dict[\"BlackElo\"]\n",
    "\n",
    "            chess_data.append([black_rating, move_length, result])\n",
    "\n",
    "        current_game.clear()\n",
    "        i += 1\n",
    "        # if i > 10: break\n",
    "\n",
    "chess_data = np.array(chess_data)\n",
    "# print(chess_data[0:10])\n",
    "\n"
   ]
  },
  {
   "cell_type": "code",
   "execution_count": null,
   "metadata": {
    "colab": {
     "base_uri": "https://localhost:8080/",
     "height": 507
    },
    "id": "sismtQz2htfk",
    "outputId": "4231842b-22bb-4a6a-a0c7-c3d6ea615d49"
   },
   "outputs": [
    {
     "name": "stdout",
     "output_type": "stream",
     "text": [
      "Clusters: [0 0 0 2 1 1 2]\n",
      "Silhouette Score: 0.4177943585835489\n"
     ]
    },
    {
     "data": {
      "image/png": "[encoded data removed]",
      "text/plain": [
       "<Figure size 640x480 with 1 Axes>"
      ]
     },
     "metadata": {},
     "output_type": "display_data"
    }
   ],
   "source": [
    "import numpy as np\n",
    "from sklearn.cluster import KMeans\n",
    "from sklearn.metrics import silhouette_score\n",
    "import matplotlib.pyplot as plt\n",
    "\n",
    "# Example data: [player_elo, num_moves, result]\n",
    "chess_data = np.array([\n",
    "    [1200, 45, 1],\n",
    "    [1300, 30, 0],\n",
    "    [1250, 50, 1],\n",
    "    [1400, 20, 0],\n",
    "    [1500, 60, 1],\n",
    "    [1600, 40, 1],\n",
    "    [1350, 55, 0]\n",
    "])\n",
    "\n",
    "# Number of clusters\n",
    "k = 3\n",
    "kmeans = KMeans(n_clusters=k, random_state=42)\n",
    "clusters = kmeans.fit_predict(chess_data)\n",
    "\n",
    "# Assigning each game a cluster\n",
    "print(\"Clusters:\", clusters)\n",
    "\n",
    "# Evaluating the clustering\n",
    "silhouette_avg = silhouette_score(chess_data, clusters)\n",
    "print(\"Silhouette Score:\", silhouette_avg)\n",
    "\n",
    "# Visualize the clustering\n",
    "plt.scatter(chess_data[:, 0], chess_data[:, 1], c=clusters, cmap='viridis')\n",
    "plt.xlabel('Player ELO')\n",
    "plt.ylabel('Number of Moves')\n",
    "plt.title('Clustering of Chess Games Based on Player Experience')\n",
    "plt.show()\n",
    "\n"
   ]
  }
 ],
 "metadata": {
  "colab": {
   "authorship_tag": "ABX9TyPuccELKZ39amP6O85ZNdrk",
   "include_colab_link": true,
   "provenance": []
  },
  "kernelspec": {
   "display_name": "Python 3",
   "name": "python3"
  },
  "language_info": {
   "codemirror_mode": {
    "name": "ipython",
    "version": 3
   },
   "file_extension": ".py",
   "mimetype": "text/x-python",
   "name": "python",
   "nbconvert_exporter": "python",
   "pygments_lexer": "ipython3",
   "version": "3.12.5"
  }
 },
 "nbformat": 4,
 "nbformat_minor": 0
}
